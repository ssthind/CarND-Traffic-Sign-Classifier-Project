{
 "cells": [
  {
   "cell_type": "markdown",
   "metadata": {},
   "source": [
    "# Self-Driving Car Engineer Nanodegree\n",
    "\n",
    "## Deep Learning\n",
    "\n",
    "## Project: Build a Traffic Sign Recognition Classifier\n",
    "\n",
    "In this notebook, a template is provided for you to implement your functionality in stages, which is required to successfully complete this project. If additional code is required that cannot be included in the notebook, be sure that the Python code is successfully imported and included in your submission if necessary. \n",
    "\n",
    "> **Note**: Once you have completed all of the code implementations, you need to finalize your work by exporting the iPython Notebook as an HTML document. Before exporting the notebook to html, all of the code cells need to have been run so that reviewers can see the final implementation and output. You can then export the notebook by using the menu above and navigating to  \\n\",\n",
    "    \"**File -> Download as -> HTML (.html)**. Include the finished document along with this notebook as your submission. \n",
    "\n",
    "In addition to implementing code, there is a writeup to complete. The writeup should be completed in a separate file, which can be either a markdown file or a pdf document. There is a [write up template](https://github.com/udacity/CarND-Traffic-Sign-Classifier-Project/blob/master/writeup_template.md) that can be used to guide the writing process. Completing the code template and writeup template will cover all of the [rubric points](https://review.udacity.com/#!/rubrics/481/view) for this project.\n",
    "\n",
    "The [rubric](https://review.udacity.com/#!/rubrics/481/view) contains \"Stand Out Suggestions\" for enhancing the project beyond the minimum requirements. The stand out suggestions are optional. If you decide to pursue the \"stand out suggestions\", you can include the code in this Ipython notebook and also discuss the results in the writeup file.\n",
    "\n",
    "\n",
    ">**Note:** Code and Markdown cells can be executed using the **Shift + Enter** keyboard shortcut. In addition, Markdown cells can be edited by typically double-clicking the cell to enter edit mode."
   ]
  },
  {
   "cell_type": "markdown",
   "metadata": {},
   "source": [
    "---\n",
    "## Step 0: Load The Data"
   ]
  },
  {
   "cell_type": "code",
   "execution_count": 1,
   "metadata": {},
   "outputs": [
    {
     "name": "stdout",
     "output_type": "stream",
     "text": [
      "Collecting opencv-python\n",
      "  Downloading opencv_python-3.4.0.12-cp35-cp35m-manylinux1_x86_64.whl (24.9MB)\n",
      "\u001b[K    100% |████████████████████████████████| 24.9MB 27kB/s  eta 0:00:01   21% |██████▉                         | 5.3MB 29.5MB/s eta 0:00:01\n",
      "\u001b[?25hRequirement already satisfied: numpy>=1.11.1 in /home/carnd/anaconda3/envs/carnd-term1/lib/python3.5/site-packages (from opencv-python)\n",
      "Installing collected packages: opencv-python\n",
      "Successfully installed opencv-python-3.4.0.12\n"
     ]
    }
   ],
   "source": [
    "!pip install opencv-python"
   ]
  },
  {
   "cell_type": "code",
   "execution_count": 2,
   "metadata": {},
   "outputs": [
    {
     "name": "stdout",
     "output_type": "stream",
     "text": [
      "--2018-02-22 17:30:55--  https://d17h27t6h515a5.cloudfront.net/topher/2017/February/5898cd6f_traffic-signs-data/traffic-signs-data.zip\n",
      "Resolving d17h27t6h515a5.cloudfront.net (d17h27t6h515a5.cloudfront.net)... 54.192.37.60, 54.192.37.117, 54.192.37.190, ...\n",
      "Connecting to d17h27t6h515a5.cloudfront.net (d17h27t6h515a5.cloudfront.net)|54.192.37.60|:443... connected.\n",
      "HTTP request sent, awaiting response... 200 OK\n",
      "Length: 123524425 (118M) [application/zip]\n",
      "Saving to: ‘traffic-signs-data.zip’\n",
      "\n",
      "traffic-signs-data. 100%[===================>] 117.80M  59.8MB/s    in 2.0s    \n",
      "\n",
      "2018-02-22 17:30:57 (59.8 MB/s) - ‘traffic-signs-data.zip’ saved [123524425/123524425]\n",
      "\n",
      "Archive:  traffic-signs-data.zip\n",
      "  inflating: images_data/test.p      \n",
      "  inflating: images_data/train.p     \n",
      "  inflating: images_data/valid.p     \n",
      "CPU times: user 96 ms, sys: 44 ms, total: 140 ms\n",
      "Wall time: 4.6 s\n"
     ]
    }
   ],
   "source": [
    "%%time\n",
    "!mkdir images_data\n",
    "!wget https://d17h27t6h515a5.cloudfront.net/topher/2017/February/5898cd6f_traffic-signs-data/traffic-signs-data.zip\n",
    "!unzip traffic-signs-data.zip -d images_data/"
   ]
  },
  {
   "cell_type": "code",
   "execution_count": 3,
   "metadata": {},
   "outputs": [
    {
     "name": "stderr",
     "output_type": "stream",
     "text": [
      "/home/carnd/anaconda3/envs/carnd-term1/lib/python3.5/site-packages/matplotlib/font_manager.py:280: UserWarning: Matplotlib is building the font cache using fc-list. This may take a moment.\n",
      "  'Matplotlib is building the font cache using fc-list. '\n"
     ]
    },
    {
     "name": "stdout",
     "output_type": "stream",
     "text": [
      "CPU times: user 5.31 s, sys: 1.02 s, total: 6.33 s\n",
      "Wall time: 1min 41s\n"
     ]
    }
   ],
   "source": [
    "%%time\n",
    "# Load pickled data\n",
    "import pickle\n",
    "import numpy as np\n",
    "import matplotlib.pyplot as plt\n",
    "\n",
    "import imageio\n",
    "from PIL import Image\n",
    "from PIL import ImageFont\n",
    "from PIL import ImageDraw \n",
    "\n",
    "import cv2\n",
    "from sklearn.utils import shuffle\n",
    "import sys, os, glob, csv\n",
    "\n",
    "from tensorflow.contrib.layers import flatten\n",
    "import tensorflow as tf"
   ]
  },
  {
   "cell_type": "code",
   "execution_count": 4,
   "metadata": {},
   "outputs": [
    {
     "name": "stdout",
     "output_type": "stream",
     "text": [
      "CPU times: user 36 ms, sys: 88 ms, total: 124 ms\n",
      "Wall time: 125 ms\n"
     ]
    }
   ],
   "source": [
    "%%time\n",
    "# Load pickled data\n",
    "import pickle\n",
    "import numpy as np\n",
    "# TODO: Fill this in based on where you saved the training and testing data\n",
    "\n",
    "training_file = \"images_data/train.p\"\n",
    "validation_file= \"images_data/valid.p\"\n",
    "testing_file = \"images_data/test.p\"\n",
    "\n",
    "with open(training_file, mode='rb') as f:\n",
    "    train = pickle.load(f)\n",
    "with open(validation_file, mode='rb') as f:\n",
    "    valid = pickle.load(f)\n",
    "with open(testing_file, mode='rb') as f:\n",
    "    test = pickle.load(f)\n",
    "    \n",
    "X_train, y_train = train['features'], train['labels']\n",
    "X_validation, y_validation = valid['features'], valid['labels']\n",
    "X_test, y_test = test['features'], test['labels']"
   ]
  },
  {
   "cell_type": "markdown",
   "metadata": {},
   "source": [
    "---\n",
    "\n",
    "## Step 1: Dataset Summary & Exploration\n",
    "\n",
    "The pickled data is a dictionary with 4 key/value pairs:\n",
    "\n",
    "- `'features'` is a 4D array containing raw pixel data of the traffic sign images, (num examples, width, height, channels).\n",
    "- `'labels'` is a 1D array containing the label/class id of the traffic sign. The file `signnames.csv` contains id -> name mappings for each id.\n",
    "- `'sizes'` is a list containing tuples, (width, height) representing the original width and height the image.\n",
    "- `'coords'` is a list containing tuples, (x1, y1, x2, y2) representing coordinates of a bounding box around the sign in the image. **THESE COORDINATES ASSUME THE ORIGINAL IMAGE. THE PICKLED DATA CONTAINS RESIZED VERSIONS (32 by 32) OF THESE IMAGES**\n",
    "\n",
    "Complete the basic data summary below. Use python, numpy and/or pandas methods to calculate the data summary rather than hard coding the results. For example, the [pandas shape method](http://pandas.pydata.org/pandas-docs/stable/generated/pandas.DataFrame.shape.html) might be useful for calculating some of the summary results. "
   ]
  },
  {
   "cell_type": "markdown",
   "metadata": {},
   "source": [
    "### Provide a Basic Summary of the Data Set Using Python, Numpy and/or Pandas"
   ]
  },
  {
   "cell_type": "code",
   "execution_count": 5,
   "metadata": {},
   "outputs": [
    {
     "name": "stdout",
     "output_type": "stream",
     "text": [
      "Number of training examples = 34799\n",
      "Number of validation examples = 4410\n",
      "Number of testing examples = 12630\n",
      "Image data shape = (34799, 32, 32, 3)\n",
      "Number of classes = 43\n",
      "CPU times: user 8 ms, sys: 0 ns, total: 8 ms\n",
      "Wall time: 4.47 ms\n"
     ]
    }
   ],
   "source": [
    "%%time\n",
    "### Replace each question mark with the appropriate value. \n",
    "### Use python, pandas or numpy methods rather than hard coding the results\n",
    "\n",
    "# TODO: Number of training examples\n",
    "n_train = len(X_train)\n",
    "\n",
    "# TODO: Number of validation examples\n",
    "n_validation = len(X_validation)\n",
    "\n",
    "# TODO: Number of testing examples.\n",
    "n_test = len(X_test)\n",
    "\n",
    "# TODO: What's the shape of an traffic sign image?\n",
    "image_shape = X_train.shape\n",
    "\n",
    "# TODO: How many unique classes/labels there are in the dataset.\n",
    "n_classes = len(set(y_train))\n",
    "\n",
    "\n",
    "print(\"Number of training examples =\", n_train)\n",
    "print(\"Number of validation examples =\", n_validation)\n",
    "print(\"Number of testing examples =\", n_test)\n",
    "print(\"Image data shape =\", image_shape)\n",
    "print(\"Number of classes =\", n_classes)"
   ]
  },
  {
   "cell_type": "markdown",
   "metadata": {},
   "source": [
    "### Include an exploratory visualization of the dataset"
   ]
  },
  {
   "cell_type": "markdown",
   "metadata": {},
   "source": [
    "Visualize the German Traffic Signs Dataset using the pickled file(s). This is open ended, suggestions include: plotting traffic sign images, plotting the count of each sign, etc. \n",
    "\n",
    "The [Matplotlib](http://matplotlib.org/) [examples](http://matplotlib.org/examples/index.html) and [gallery](http://matplotlib.org/gallery.html) pages are a great resource for doing visualizations in Python.\n",
    "\n",
    "**NOTE:** It's recommended you start with something simple first. If you wish to do more, come back to it after you've completed the rest of the sections. It can be interesting to look at the distribution of classes in the training, validation and test set. Is the distribution the same? Are there more examples of some classes than others?"
   ]
  },
  {
   "cell_type": "code",
   "execution_count": 6,
   "metadata": {},
   "outputs": [
    {
     "name": "stdout",
     "output_type": "stream",
     "text": [
      "[ 180 1980 2010 1260 1770 1650  360 1290 1260 1320 1800 1170 1890 1920  690\n",
      "  540  360  990 1080  180  300  270  330  450  240 1350  540  210  480  240\n",
      "  390  690  210  599  360 1080  330  180 1860  270  300  210  210]\n",
      "CPU times: user 188 ms, sys: 28 ms, total: 216 ms\n",
      "Wall time: 305 ms\n"
     ]
    },
    {
     "data": {
      "image/png": "[encoded data removed]",
      "text/plain": [
       "<matplotlib.figure.Figure at 0x7fc8480d68d0>"
      ]
     },
     "metadata": {},
     "output_type": "display_data"
    }
   ],
   "source": [
    "%%time\n",
    "### Data exploration visualization code goes here.\n",
    "### Feel free to use as many code cells as needed.\n",
    "import matplotlib.pyplot as plt\n",
    "# Visualizations will be shown in the notebook.\n",
    "%matplotlib inline\n",
    "\n",
    "bincount_img= np.bincount(y_train)\n",
    "print(bincount_img)\n",
    "# plt.lineplot(range(43),bincount_img, \"b*\", linewidth=1.0, label=\"images frequecy\")\n",
    "\n",
    "plt.hist(y_train,100, facecolor='g')"
   ]
  },
  {
   "cell_type": "code",
   "execution_count": 7,
   "metadata": {},
   "outputs": [
    {
     "name": "stdout",
     "output_type": "stream",
     "text": [
      "Max no. samples: 2010\n",
      "Avg no. samples: 809\n"
     ]
    }
   ],
   "source": [
    "max_samples = max(bincount_img)\n",
    "print(\"Max no. samples:\",max_samples)\n",
    "avg_samples = int(sum(bincount_img)/len(bincount_img))\n",
    "print(\"Avg no. samples:\", avg_samples)"
   ]
  },
  {
   "cell_type": "code",
   "execution_count": 8,
   "metadata": {
    "scrolled": true
   },
   "outputs": [
    {
     "name": "stdout",
     "output_type": "stream",
     "text": [
      "Image label 41\n"
     ]
    },
    {
     "data": {
      "text/plain": [
       "<matplotlib.image.AxesImage at 0x7fc7e52d0be0>"
      ]
     },
     "execution_count": 8,
     "metadata": {},
     "output_type": "execute_result"
    },
    {
     "data": {
      "image/png": "[encoded data removed]",
      "text/plain": [
       "<matplotlib.figure.Figure at 0x7fc7e5c71748>"
      ]
     },
     "metadata": {},
     "output_type": "display_data"
    }
   ],
   "source": [
    "image_idx =10\n",
    "print (\"Image label\", y_train[image_idx])\n",
    "plt.imshow(X_train[image_idx])"
   ]
  },
  {
   "cell_type": "code",
   "execution_count": 9,
   "metadata": {
    "codeCollapsed": true
   },
   "outputs": [
    {
     "name": "stdout",
     "output_type": "stream",
     "text": [
      "CPU times: user 2min 50s, sys: 236 ms, total: 2min 50s\n",
      "Wall time: 2min 50s\n"
     ]
    }
   ],
   "source": [
    "%%time\n",
    "import imageio\n",
    "from PIL import Image\n",
    "from PIL import ImageFont\n",
    "from PIL import ImageDraw \n",
    "###generating GIF for each signal call\n",
    "for i in range(n_classes):\n",
    "#     i=1\n",
    "    image_idx=np.nonzero((y_train==i))\n",
    "#     print(len(image_idx[0]))\n",
    "    output_file = \"gif_img/\" + \"Traffics_signs_{:02d}.gif\".format(i)\n",
    "    with imageio.get_writer(output_file, mode='I') as writer:\n",
    "        counter=1\n",
    "        for idx in image_idx[0]:\n",
    "            img = X_train[idx]\n",
    "            writer.append_data(img)"
   ]
  },
  {
   "cell_type": "code",
   "execution_count": 10,
   "metadata": {
    "collapsed": true
   },
   "outputs": [],
   "source": [
    "import sys, os, csv\n",
    "# from IPython.display import HTML\n",
    "# from IPython.core.display import Image, display\n",
    "csv_data = []\n",
    "with open('signnames.csv', 'r') as csvfile:\n",
    "    csv_file_data = csv.reader(csvfile, delimiter=',', quotechar='|')\n",
    "    csv_data = [row for row in csv_file_data]"
   ]
  },
  {
   "cell_type": "code",
   "execution_count": 25,
   "metadata": {},
   "outputs": [
    {
     "name": "stdout",
     "output_type": "stream",
     "text": [
      "GIF of each traffic signal class\n"
     ]
    },
    {
     "data": {
      "text/html": [
       "<img src=\"gif_img/Traffics_signs_00.gif\" style=\"display:inline;margin:20px\" height=\"80\" width=\"80\" title=\"['0', 'Speed limit (20km/h)']\"/><img src=\"gif_img/Traffics_signs_01.gif\" style=\"display:inline;margin:20px\" height=\"80\" width=\"80\" title=\"['1', 'Speed limit (30km/h)']\"/><img src=\"gif_img/Traffics_signs_02.gif\" style=\"display:inline;margin:20px\" height=\"80\" width=\"80\" title=\"['2', 'Speed limit (50km/h)']\"/><img src=\"gif_img/Traffics_signs_03.gif\" style=\"display:inline;margin:20px\" height=\"80\" width=\"80\" title=\"['3', 'Speed limit (60km/h)']\"/><img src=\"gif_img/Traffics_signs_04.gif\" style=\"display:inline;margin:20px\" height=\"80\" width=\"80\" title=\"['4', 'Speed limit (70km/h)']\"/><img src=\"gif_img/Traffics_signs_05.gif\" style=\"display:inline;margin:20px\" height=\"80\" width=\"80\" title=\"['5', 'Speed limit (80km/h)']\"/><img src=\"gif_img/Traffics_signs_06.gif\" style=\"display:inline;margin:20px\" height=\"80\" width=\"80\" title=\"['6', 'End of speed limit (80km/h)']\"/><img src=\"gif_img/Traffics_signs_07.gif\" style=\"display:inline;margin:20px\" height=\"80\" width=\"80\" title=\"['7', 'Speed limit (100km/h)']\"/><img src=\"gif_img/Traffics_signs_08.gif\" style=\"display:inline;margin:20px\" height=\"80\" width=\"80\" title=\"['8', 'Speed limit (120km/h)']\"/><img src=\"gif_img/Traffics_signs_09.gif\" style=\"display:inline;margin:20px\" height=\"80\" width=\"80\" title=\"['9', 'No passing']\"/><img src=\"gif_img/Traffics_signs_10.gif\" style=\"display:inline;margin:20px\" height=\"80\" width=\"80\" title=\"['10', 'No passing for vehicles over 3.5 metric tons']\"/><img src=\"gif_img/Traffics_signs_11.gif\" style=\"display:inline;margin:20px\" height=\"80\" width=\"80\" title=\"['11', 'Right-of-way at the next intersection']\"/><img src=\"gif_img/Traffics_signs_12.gif\" style=\"display:inline;margin:20px\" height=\"80\" width=\"80\" title=\"['12', 'Priority road']\"/><img src=\"gif_img/Traffics_signs_13.gif\" style=\"display:inline;margin:20px\" height=\"80\" width=\"80\" title=\"['13', 'Yield']\"/><img src=\"gif_img/Traffics_signs_14.gif\" style=\"display:inline;margin:20px\" height=\"80\" width=\"80\" title=\"['14', 'Stop']\"/><img src=\"gif_img/Traffics_signs_15.gif\" style=\"display:inline;margin:20px\" height=\"80\" width=\"80\" title=\"['15', 'No vehicles']\"/><img src=\"gif_img/Traffics_signs_16.gif\" style=\"display:inline;margin:20px\" height=\"80\" width=\"80\" title=\"['16', 'Vehicles over 3.5 metric tons prohibited']\"/><img src=\"gif_img/Traffics_signs_17.gif\" style=\"display:inline;margin:20px\" height=\"80\" width=\"80\" title=\"['17', 'No entry']\"/><img src=\"gif_img/Traffics_signs_18.gif\" style=\"display:inline;margin:20px\" height=\"80\" width=\"80\" title=\"['18', 'General caution']\"/><img src=\"gif_img/Traffics_signs_19.gif\" style=\"display:inline;margin:20px\" height=\"80\" width=\"80\" title=\"['19', 'Dangerous curve to the left']\"/><img src=\"gif_img/Traffics_signs_20.gif\" style=\"display:inline;margin:20px\" height=\"80\" width=\"80\" title=\"['20', 'Dangerous curve to the right']\"/><img src=\"gif_img/Traffics_signs_21.gif\" style=\"display:inline;margin:20px\" height=\"80\" width=\"80\" title=\"['21', 'Double curve']\"/><img src=\"gif_img/Traffics_signs_22.gif\" style=\"display:inline;margin:20px\" height=\"80\" width=\"80\" title=\"['22', 'Bumpy road']\"/><img src=\"gif_img/Traffics_signs_23.gif\" style=\"display:inline;margin:20px\" height=\"80\" width=\"80\" title=\"['23', 'Slippery road']\"/><img src=\"gif_img/Traffics_signs_24.gif\" style=\"display:inline;margin:20px\" height=\"80\" width=\"80\" title=\"['24', 'Road narrows on the right']\"/><img src=\"gif_img/Traffics_signs_25.gif\" style=\"display:inline;margin:20px\" height=\"80\" width=\"80\" title=\"['25', 'Road work']\"/><img src=\"gif_img/Traffics_signs_26.gif\" style=\"display:inline;margin:20px\" height=\"80\" width=\"80\" title=\"['26', 'Traffic signals']\"/><img src=\"gif_img/Traffics_signs_27.gif\" style=\"display:inline;margin:20px\" height=\"80\" width=\"80\" title=\"['27', 'Pedestrians']\"/><img src=\"gif_img/Traffics_signs_28.gif\" style=\"display:inline;margin:20px\" height=\"80\" width=\"80\" title=\"['28', 'Children crossing']\"/><img src=\"gif_img/Traffics_signs_29.gif\" style=\"display:inline;margin:20px\" height=\"80\" width=\"80\" title=\"['29', 'Bicycles crossing']\"/><img src=\"gif_img/Traffics_signs_30.gif\" style=\"display:inline;margin:20px\" height=\"80\" width=\"80\" title=\"['30', 'Beware of ice/snow']\"/><img src=\"gif_img/Traffics_signs_31.gif\" style=\"display:inline;margin:20px\" height=\"80\" width=\"80\" title=\"['31', 'Wild animals crossing']\"/><img src=\"gif_img/Traffics_signs_32.gif\" style=\"display:inline;margin:20px\" height=\"80\" width=\"80\" title=\"['32', 'End of all speed and passing limits']\"/><img src=\"gif_img/Traffics_signs_33.gif\" style=\"display:inline;margin:20px\" height=\"80\" width=\"80\" title=\"['33', 'Turn right ahead']\"/><img src=\"gif_img/Traffics_signs_34.gif\" style=\"display:inline;margin:20px\" height=\"80\" width=\"80\" title=\"['34', 'Turn left ahead']\"/><img src=\"gif_img/Traffics_signs_35.gif\" style=\"display:inline;margin:20px\" height=\"80\" width=\"80\" title=\"['35', 'Ahead only']\"/><img src=\"gif_img/Traffics_signs_36.gif\" style=\"display:inline;margin:20px\" height=\"80\" width=\"80\" title=\"['36', 'Go straight or right']\"/><img src=\"gif_img/Traffics_signs_37.gif\" style=\"display:inline;margin:20px\" height=\"80\" width=\"80\" title=\"['37', 'Go straight or left']\"/><img src=\"gif_img/Traffics_signs_38.gif\" style=\"display:inline;margin:20px\" height=\"80\" width=\"80\" title=\"['38', 'Keep right']\"/><img src=\"gif_img/Traffics_signs_39.gif\" style=\"display:inline;margin:20px\" height=\"80\" width=\"80\" title=\"['39', 'Keep left']\"/><img src=\"gif_img/Traffics_signs_40.gif\" style=\"display:inline;margin:20px\" height=\"80\" width=\"80\" title=\"['40', 'Roundabout mandatory']\"/><img src=\"gif_img/Traffics_signs_41.gif\" style=\"display:inline;margin:20px\" height=\"80\" width=\"80\" title=\"['41', 'End of no passing']\"/><img src=\"gif_img/Traffics_signs_42.gif\" style=\"display:inline;margin:20px\" height=\"80\" width=\"80\" title=\"['42', 'End of no passing by vehicles over 3.5 metric tons']\"/>"
      ],
      "text/plain": [
       "<IPython.core.display.HTML object>"
      ]
     },
     "metadata": {},
     "output_type": "display_data"
    }
   ],
   "source": [
    "gif_dir = \"gif_img\"\n",
    "from IPython.display import display, HTML\n",
    "files = os.listdir(gif_dir)\n",
    "files.sort()\n",
    "def make_html(files, sign_name):\n",
    "     return '<img src=\"{}\" style=\"display:inline;margin:20px\" height=\"80\" width=\"80\" title=\"{}\"/>'.\\\n",
    "               format(gif_dir + \"/\" + files, sign_name)\n",
    "disp_imgs = ''.join(make_html(x, sign_name) for x, sign_name in zip (files, csv_data[1:]))\n",
    "\n",
    "# disp_imgs = ''.join('<img src=\"{}\" style=\"display:inline;margin:20px\" height=\"80\" width=\"80\" title=\"{}\"/>'.\\\n",
    "#                format(gif_dir + \"/\" + x, sign_name) for x, sign_name in zip (files, csv_data[1:]))\n",
    "# print(disp3)\n",
    "\n",
    "print(\"GIF of each traffic signal class\")\n",
    "display(HTML(disp_imgs))    \n",
    "  "
   ]
  },
  {
   "cell_type": "markdown",
   "metadata": {},
   "source": [
    "----\n",
    "\n",
    "## Step 2: Design and Test a Model Architecture\n",
    "\n",
    "Design and implement a deep learning model that learns to recognize traffic signs. Train and test your model on the [German Traffic Sign Dataset](http://benchmark.ini.rub.de/?section=gtsrb&subsection=dataset).\n",
    "\n",
    "The LeNet-5 implementation shown in the [classroom](https://classroom.udacity.com/nanodegrees/nd013/parts/fbf77062-5703-404e-b60c-95b78b2f3f9e/modules/6df7ae49-c61c-4bb2-a23e-6527e69209ec/lessons/601ae704-1035-4287-8b11-e2c2716217ad/concepts/d4aca031-508f-4e0b-b493-e7b706120f81) at the end of the CNN lesson is a solid starting point. You'll have to change the number of classes and possibly the preprocessing, but aside from that it's plug and play! \n",
    "\n",
    "With the LeNet-5 solution from the lecture, you should expect a validation set accuracy of about 0.89. To meet specifications, the validation set accuracy will need to be at least 0.93. It is possible to get an even higher accuracy, but 0.93 is the minimum for a successful project submission. \n",
    "\n",
    "There are various aspects to consider when thinking about this problem:\n",
    "\n",
    "- Neural network architecture (is the network over or underfitting?)\n",
    "- Play around preprocessing techniques (normalization, rgb to grayscale, etc)\n",
    "- Number of examples per label (some have more than others).\n",
    "- Generate fake data.\n",
    "\n",
    "Here is an example of a [published baseline model on this problem](http://yann.lecun.com/exdb/publis/pdf/sermanet-ijcnn-11.pdf). It's not required to be familiar with the approach used in the paper but, it's good practice to try to read papers like these."
   ]
  },
  {
   "cell_type": "markdown",
   "metadata": {},
   "source": [
    "### Pre-process the Data Set (normalization, grayscale, etc.)"
   ]
  },
  {
   "cell_type": "markdown",
   "metadata": {},
   "source": [
    "Minimally, the image data should be normalized so that the data has mean zero and equal variance. For image data, `(pixel - 128)/ 128` is a quick way to approximately normalize the data and can be used in this project. \n",
    "\n",
    "Other pre-processing steps are optional. You can try different techniques to see if it improves performance. \n",
    "\n",
    "Use the code cell (or multiple code cells, if necessary) to implement the first step of your project."
   ]
  },
  {
   "cell_type": "code",
   "execution_count": 12,
   "metadata": {
    "collapsed": true
   },
   "outputs": [],
   "source": [
    "### Preprocess the data here. It is required to normalize the data. Other preprocessing steps could include \n",
    "### converting to grayscale, etc.\n",
    "### Feel free to use as many code cells as needed.\n",
    "\n",
    "    \n",
    "def normailization_1(X_data):    \n",
    "    X_data = X_data/128 - 1\n",
    "    return X_data\n",
    "\n",
    "def normailization_2(X_data):    \n",
    "    X_data = X_data/255\n",
    "    return X_data\n",
    "\n",
    "def gray_scale_np(X_data):\n",
    "    col_weights= np.array([0.299, 0.587, 0.114])\n",
    "#     print (X_data.shape)\n",
    "#     X_data_f = np.zeros(X_data.shape[:-1]+(1,))\n",
    "    X_data_f=np.dot(X_data[...,:3], col_weights)\n",
    "    X_data_f = X_data_f.reshape(X_data_f.shape +(1,))\n",
    "#     print (X_data_f.shape)\n",
    "    return X_data_f\n",
    "\n",
    "\n",
    "def preprocess_data(X_data):\n",
    "    X_data = normailization_2(X_data)\n",
    "    X_data = gray_scale_np(X_data)\n",
    "    \n",
    "    return X_data"
   ]
  },
  {
   "cell_type": "code",
   "execution_count": 13,
   "metadata": {},
   "outputs": [
    {
     "name": "stdout",
     "output_type": "stream",
     "text": [
      "CPU times: user 2.87 s, sys: 272 ms, total: 3.14 s\n",
      "Wall time: 3.14 s\n"
     ]
    }
   ],
   "source": [
    "%%time\n",
    "#run preprocessing data\n",
    "X_train = preprocess_data(X_train)\n",
    "X_validation = preprocess_data(X_validation)\n",
    "X_test = preprocess_data(X_test)"
   ]
  },
  {
   "cell_type": "code",
   "execution_count": 14,
   "metadata": {
    "scrolled": true
   },
   "outputs": [
    {
     "name": "stdout",
     "output_type": "stream",
     "text": [
      "Image label 41\n"
     ]
    },
    {
     "data": {
      "text/plain": [
       "<matplotlib.image.AxesImage at 0x7fc7e5c8e6d8>"
      ]
     },
     "execution_count": 14,
     "metadata": {},
     "output_type": "execute_result"
    },
    {
     "data": {
      "image/png": "[encoded data removed]",
      "text/plain": [
       "<matplotlib.figure.Figure at 0x7fc7e5cb24e0>"
      ]
     },
     "metadata": {},
     "output_type": "display_data"
    }
   ],
   "source": [
    "image_idx =10\n",
    "print (\"Image label\", y_train[image_idx])\n",
    "plt.imshow(X_train[image_idx].reshape(32,32), cmap = 'gray')"
   ]
  },
  {
   "cell_type": "code",
   "execution_count": 15,
   "metadata": {
    "collapsed": true
   },
   "outputs": [],
   "source": [
    "from sklearn.utils import shuffle\n",
    "X_train, y_train = shuffle(X_train, y_train)"
   ]
  },
  {
   "cell_type": "markdown",
   "metadata": {},
   "source": [
    "### Model Architecture"
   ]
  },
  {
   "cell_type": "code",
   "execution_count": 16,
   "metadata": {
    "collapsed": true
   },
   "outputs": [],
   "source": [
    "### Define your architecture here.\n",
    "### Feel free to use as many code cells as needed.\n",
    "from tensorflow.contrib.layers import flatten\n",
    "import tensorflow as tf\n",
    "\n",
    "def LeNet(x, keep_prob1):    \n",
    "    # Arguments used for tf.truncated_normal, randomly defines variables for the weights and biases for each layer\n",
    "    mu = 0\n",
    "    sigma = 0.1\n",
    "    with tf.name_scope('Conv_Layer1'):    \n",
    "        # SOLUTION: Layer 1: Convolutional. Input = 32x32x3. Output = 28x28x6.\n",
    "        conv1_W = tf.Variable(tf.truncated_normal(shape=(5, 5, 1, 6), mean = mu, stddev = sigma), name ='conv1_W')\n",
    "        conv1_b = tf.Variable(tf.zeros(6), name ='conv1_b')\n",
    "        conv1   = tf.nn.bias_add(tf.nn.conv2d(x, conv1_W, strides=[1, 1, 1, 1], padding='VALID'), conv1_b)\n",
    "\n",
    "        # SOLUTION: Activation.\n",
    "        conv1 = tf.nn.relu(conv1, name=\"relu_conv1\")\n",
    "\n",
    "        # SOLUTION: Pooling. Input = 28x28x6. Output = 14x14x6.\n",
    "        conv1 = tf.nn.max_pool(conv1, ksize=[1, 2, 2, 1], strides=[1, 2, 2, 1], padding='VALID')\n",
    "\n",
    "    with tf.name_scope('Conv_Layer2'):\n",
    "        # SOLUTION: Layer 2: Convolutional. Output = 10x10x16.\n",
    "        conv2_W = tf.Variable(tf.truncated_normal(shape=(5, 5, 6, 16), mean = mu, stddev = sigma), name ='conv2_W')\n",
    "        conv2_b = tf.Variable(tf.zeros(16), name ='conv2_b')\n",
    "        conv2   = tf.nn.bias_add(tf.nn.conv2d(conv1, conv2_W, strides=[1, 1, 1, 1], padding='VALID'), conv2_b)\n",
    "\n",
    "        # SOLUTION: Activation.\n",
    "        conv2 = tf.nn.relu(conv2, name=\"relu_conv2\")\n",
    "\n",
    "        # SOLUTION: Pooling. Input = 10x10x16. Output = 5x5x16.\n",
    "        conv2 = tf.nn.max_pool(conv2, ksize=[1, 2, 2, 1], strides=[1, 2, 2, 1], padding='VALID')\n",
    "    with tf.name_scope('FC_Layer1'):\n",
    "        # SOLUTION: Flatten. Input = 5x5x16. Output = 400.\n",
    "        fc0   = flatten(conv2)\n",
    "    \n",
    "        # SOLUTION: Layer 3: Fully Connected. Input = 400. Output = 120.\n",
    "        fc1_W = tf.Variable(tf.truncated_normal(shape=(400, 120), mean = mu, stddev = sigma), name =\"fc1_W\")\n",
    "        fc1_b = tf.Variable(tf.zeros(120), name =\"fc1_b\")\n",
    "        fc1   = tf.add(tf.matmul(fc0, fc1_W), fc1_b)\n",
    "\n",
    "        # SOLUTION: Activation.\n",
    "        fc1    = tf.nn.relu(fc1, name=\"relu_fc1\")\n",
    "        fc1 = tf.nn.dropout(fc1, keep_prob=keep_prob1)\n",
    "    \n",
    "    with tf.name_scope('FC_Layer2'):\n",
    "        # SOLUTION: Layer 4: Fully Connected. Input = 120. Output = 84.\n",
    "        fc2_W  = tf.Variable(tf.truncated_normal(shape=(120, 84), mean = mu, stddev = sigma), name =\"fc2_W\")\n",
    "        fc2_b  = tf.Variable(tf.zeros(84), name =\"fc2_b\")\n",
    "        fc2    = tf.add(tf.matmul(fc1, fc2_W), fc2_b)\n",
    "\n",
    "        # SOLUTION: Activation.\n",
    "        fc2    = tf.nn.relu(fc2, name=\"relu_fc2\")\n",
    "    #     fc2 = tf.nn.dropout(fc2, keep_prob=keep_prob1)\n",
    "    \n",
    "    with tf.name_scope('FC_Layer3'):\n",
    "        # SOLUTION: Layer 5: Fully Connected. Input = 84. Output = 43.\n",
    "        fc3_W  = tf.Variable(tf.truncated_normal(shape=(84, n_classes), mean = mu, stddev = sigma), name =\"fc3_W\")\n",
    "        fc3_b  = tf.Variable(tf.zeros(n_classes), name =\"fc3_b\")\n",
    "\n",
    "        logits = tf.add(tf.matmul(fc2, fc3_W), fc3_b)\n",
    "    return logits"
   ]
  },
  {
   "cell_type": "code",
   "execution_count": 17,
   "metadata": {
    "collapsed": true
   },
   "outputs": [],
   "source": [
    "x = tf.placeholder(tf.float32, (None, 32, 32, 1))\n",
    "y = tf.placeholder(tf.int32, (None))\n",
    "keep_prob1 = tf.placeholder(tf.float32, (None))\n",
    "one_hot_y = tf.one_hot(y, n_classes)"
   ]
  },
  {
   "cell_type": "code",
   "execution_count": 18,
   "metadata": {},
   "outputs": [
    {
     "data": {
      "text/plain": [
       "<tf.Tensor 'loss:0' shape=() dtype=string>"
      ]
     },
     "execution_count": 18,
     "metadata": {},
     "output_type": "execute_result"
    }
   ],
   "source": [
    "rate = 0.0005\n",
    "# keep_prob1= 0.4\n",
    "with tf.name_scope('Model'):\n",
    "    logits = LeNet(x, keep_prob1)\n",
    "with tf.name_scope('Loss'):\n",
    "    cross_entropy = tf.nn.softmax_cross_entropy_with_logits(labels=one_hot_y, logits=logits)\n",
    "    loss_operation = tf.reduce_mean(cross_entropy)\n",
    "with tf.name_scope('SGD'):\n",
    "    optimizer = tf.train.AdamOptimizer(learning_rate = rate)\n",
    "    training_operation = optimizer.minimize(loss_operation)\n",
    "\n",
    "# Create a summary to monitor cost tensor\n",
    "tf.summary.scalar(\"loss\", loss_operation)"
   ]
  },
  {
   "cell_type": "code",
   "execution_count": 19,
   "metadata": {},
   "outputs": [
    {
     "name": "stdout",
     "output_type": "stream",
     "text": [
      "CPU times: user 12 ms, sys: 0 ns, total: 12 ms\n",
      "Wall time: 8.55 ms\n"
     ]
    }
   ],
   "source": [
    "%%time\n",
    "correct_prediction = tf.equal(tf.argmax(logits, 1), tf.argmax(one_hot_y, 1))\n",
    "accuracy_operation = tf.reduce_mean(tf.cast(correct_prediction, tf.float32))\n",
    "\n",
    "\n",
    "# Create a summary to monitor cost tensor\n",
    "tf.summary.scalar(\"accuracy\", accuracy_operation)\n",
    "# Merge all summaries into a single op\n",
    "merged_summary_op = tf.summary.merge_all()\n",
    "\n",
    "def evaluate(X_data, y_data):\n",
    "    num_examples = len(X_data)\n",
    "    total_accuracy = 0\n",
    "    total_loss = 0\n",
    "    sess = tf.get_default_session()\n",
    "    for offset in range(0, num_examples, BATCH_SIZE):\n",
    "        batch_x, batch_y = X_data[offset:offset+BATCH_SIZE], y_data[offset:offset+BATCH_SIZE]\n",
    "        loss, accuracy= sess.run([loss_operation, accuracy_operation], feed_dict={x: batch_x, y: batch_y, keep_prob1: 1.0})\n",
    "#         loss, accuracy, summary = sess.run([loss_operation, accuracy_operation, merged_summary_op], feed_dict={x: batch_x, y: batch_y})\n",
    "        total_accuracy += (accuracy * len(batch_x))\n",
    "        total_loss += (loss * len(batch_x))\n",
    "#         summary_writer.add_summary(summary, BATCH_SIZE + offset)\n",
    "#     return total_loss/num_examples, total_accuracy/num_examples, summary\n",
    "    return total_loss/num_examples, total_accuracy/num_examples\n"
   ]
  },
  {
   "cell_type": "markdown",
   "metadata": {},
   "source": [
    "### Train, Validate and Test the Model"
   ]
  },
  {
   "cell_type": "markdown",
   "metadata": {},
   "source": [
    "A validation set can be used to assess how well the model is performing. A low accuracy on the training and validation\n",
    "sets imply underfitting. A high accuracy on the training set but low accuracy on the validation set implies overfitting."
   ]
  },
  {
   "cell_type": "code",
   "execution_count": 20,
   "metadata": {
    "collapsed": true
   },
   "outputs": [],
   "source": [
    "EPOCHS = 100\n",
    "BATCH_SIZE = 128\n",
    "import os\n",
    "WORK_DIR = os.path.curdir\n",
    "MODEL_DIR = WORK_DIR + \"/Model_ouput_lenet\"\n",
    "logs_path = WORK_DIR + \"/logs\"\n",
    "# if not(os.path.isdir(MODEL_DIR)):\n",
    "#     os.makedirs(MODEL_DIR)\n",
    "saver = tf.train.Saver()        "
   ]
  },
  {
   "cell_type": "code",
   "execution_count": 21,
   "metadata": {
    "scrolled": false
   },
   "outputs": [
    {
     "name": "stdout",
     "output_type": "stream",
     "text": [
      "Training...\n",
      "\n",
      "EPOCH 1 ...\n",
      "Training Accuracy = 0.510\n",
      "Validation Accuracy = 0.454\n",
      "Validation loss = 2.036\n",
      "\n",
      "EPOCH 2 ...\n",
      "Training Accuracy = 0.744\n",
      "Validation Accuracy = 0.676\n",
      "Validation loss = 1.111\n",
      "\n",
      "EPOCH 3 ...\n",
      "Training Accuracy = 0.834\n",
      "Validation Accuracy = 0.782\n",
      "Validation loss = 0.800\n",
      "\n",
      "EPOCH 4 ...\n",
      "Training Accuracy = 0.868\n",
      "Validation Accuracy = 0.816\n",
      "Validation loss = 0.628\n",
      "\n",
      "EPOCH 5 ...\n",
      "Training Accuracy = 0.897\n",
      "Validation Accuracy = 0.854\n",
      "Validation loss = 0.533\n",
      "\n",
      "EPOCH 6 ...\n",
      "Training Accuracy = 0.919\n",
      "Validation Accuracy = 0.873\n",
      "Validation loss = 0.463\n",
      "\n",
      "EPOCH 7 ...\n",
      "Training Accuracy = 0.926\n",
      "Validation Accuracy = 0.875\n",
      "Validation loss = 0.434\n",
      "\n",
      "EPOCH 8 ...\n",
      "Training Accuracy = 0.940\n",
      "Validation Accuracy = 0.888\n",
      "Validation loss = 0.390\n",
      "\n",
      "EPOCH 9 ...\n",
      "Training Accuracy = 0.944\n",
      "Validation Accuracy = 0.896\n",
      "Validation loss = 0.368\n",
      "\n",
      "EPOCH 10 ...\n",
      "Training Accuracy = 0.953\n",
      "Validation Accuracy = 0.908\n",
      "Validation loss = 0.346\n",
      "\n",
      "EPOCH 11 ...\n",
      "Training Accuracy = 0.960\n",
      "Validation Accuracy = 0.921\n",
      "Validation loss = 0.303\n",
      "\n",
      "EPOCH 12 ...\n",
      "Training Accuracy = 0.961\n",
      "Validation Accuracy = 0.917\n",
      "Validation loss = 0.299\n",
      "\n",
      "EPOCH 13 ...\n",
      "Training Accuracy = 0.968\n",
      "Validation Accuracy = 0.920\n",
      "Validation loss = 0.291\n",
      "\n",
      "EPOCH 14 ...\n",
      "Training Accuracy = 0.970\n",
      "Validation Accuracy = 0.931\n",
      "Validation loss = 0.263\n",
      "\n",
      "EPOCH 15 ...\n",
      "Training Accuracy = 0.971\n",
      "Validation Accuracy = 0.932\n",
      "Validation loss = 0.252\n",
      "\n",
      "EPOCH 16 ...\n",
      "Training Accuracy = 0.976\n",
      "Validation Accuracy = 0.931\n",
      "Validation loss = 0.250\n",
      "\n",
      "EPOCH 17 ...\n",
      "Training Accuracy = 0.978\n",
      "Validation Accuracy = 0.935\n",
      "Validation loss = 0.235\n",
      "\n",
      "EPOCH 18 ...\n",
      "Training Accuracy = 0.978\n",
      "Validation Accuracy = 0.935\n",
      "Validation loss = 0.229\n",
      "\n",
      "EPOCH 19 ...\n",
      "Training Accuracy = 0.981\n",
      "Validation Accuracy = 0.942\n",
      "Validation loss = 0.218\n",
      "\n",
      "EPOCH 20 ...\n",
      "Training Accuracy = 0.983\n",
      "Validation Accuracy = 0.945\n",
      "Validation loss = 0.203\n",
      "\n",
      "EPOCH 21 ...\n",
      "Training Accuracy = 0.983\n",
      "Validation Accuracy = 0.944\n",
      "Validation loss = 0.203\n",
      "\n",
      "EPOCH 22 ...\n",
      "Training Accuracy = 0.984\n",
      "Validation Accuracy = 0.946\n",
      "Validation loss = 0.206\n",
      "\n",
      "EPOCH 23 ...\n",
      "Training Accuracy = 0.986\n",
      "Validation Accuracy = 0.944\n",
      "Validation loss = 0.200\n",
      "\n",
      "EPOCH 24 ...\n",
      "Training Accuracy = 0.986\n",
      "Validation Accuracy = 0.947\n",
      "Validation loss = 0.185\n",
      "\n",
      "EPOCH 25 ...\n",
      "Training Accuracy = 0.986\n",
      "Validation Accuracy = 0.949\n",
      "Validation loss = 0.196\n",
      "\n",
      "EPOCH 26 ...\n",
      "Training Accuracy = 0.987\n",
      "Validation Accuracy = 0.942\n",
      "Validation loss = 0.202\n",
      "\n",
      "EPOCH 27 ...\n",
      "Training Accuracy = 0.988\n",
      "Validation Accuracy = 0.948\n",
      "Validation loss = 0.188\n",
      "\n",
      "EPOCH 28 ...\n",
      "Training Accuracy = 0.989\n",
      "Validation Accuracy = 0.952\n",
      "Validation loss = 0.191\n",
      "\n",
      "EPOCH 29 ...\n",
      "Training Accuracy = 0.989\n",
      "Validation Accuracy = 0.957\n",
      "Validation loss = 0.178\n",
      "\n",
      "EPOCH 30 ...\n",
      "Training Accuracy = 0.990\n",
      "Validation Accuracy = 0.950\n",
      "Validation loss = 0.184\n",
      "\n",
      "EPOCH 31 ...\n",
      "Training Accuracy = 0.989\n",
      "Validation Accuracy = 0.947\n",
      "Validation loss = 0.199\n",
      "\n",
      "EPOCH 32 ...\n",
      "Training Accuracy = 0.991\n",
      "Validation Accuracy = 0.956\n",
      "Validation loss = 0.178\n",
      "\n",
      "EPOCH 33 ...\n",
      "Training Accuracy = 0.991\n",
      "Validation Accuracy = 0.950\n",
      "Validation loss = 0.178\n",
      "\n",
      "EPOCH 34 ...\n",
      "Training Accuracy = 0.993\n",
      "Validation Accuracy = 0.956\n",
      "Validation loss = 0.165\n",
      "\n",
      "EPOCH 35 ...\n",
      "Training Accuracy = 0.993\n",
      "Validation Accuracy = 0.954\n",
      "Validation loss = 0.167\n",
      "\n",
      "EPOCH 36 ...\n",
      "Training Accuracy = 0.992\n",
      "Validation Accuracy = 0.957\n",
      "Validation loss = 0.180\n",
      "\n",
      "EPOCH 37 ...\n",
      "Training Accuracy = 0.993\n",
      "Validation Accuracy = 0.956\n",
      "Validation loss = 0.166\n",
      "\n",
      "EPOCH 38 ...\n",
      "Training Accuracy = 0.993\n",
      "Validation Accuracy = 0.953\n",
      "Validation loss = 0.177\n",
      "\n",
      "EPOCH 39 ...\n",
      "Training Accuracy = 0.994\n",
      "Validation Accuracy = 0.959\n",
      "Validation loss = 0.158\n",
      "\n",
      "EPOCH 40 ...\n",
      "Training Accuracy = 0.993\n",
      "Validation Accuracy = 0.952\n",
      "Validation loss = 0.171\n",
      "\n",
      "EPOCH 41 ...\n",
      "Training Accuracy = 0.993\n",
      "Validation Accuracy = 0.960\n",
      "Validation loss = 0.157\n",
      "\n",
      "EPOCH 42 ...\n",
      "Training Accuracy = 0.994\n",
      "Validation Accuracy = 0.952\n",
      "Validation loss = 0.164\n",
      "\n",
      "EPOCH 43 ...\n",
      "Training Accuracy = 0.994\n",
      "Validation Accuracy = 0.967\n",
      "Validation loss = 0.137\n",
      "\n",
      "EPOCH 44 ...\n",
      "Training Accuracy = 0.994\n",
      "Validation Accuracy = 0.962\n",
      "Validation loss = 0.164\n",
      "\n",
      "EPOCH 45 ...\n",
      "Training Accuracy = 0.995\n",
      "Validation Accuracy = 0.965\n",
      "Validation loss = 0.140\n",
      "\n",
      "EPOCH 46 ...\n",
      "Training Accuracy = 0.995\n",
      "Validation Accuracy = 0.962\n",
      "Validation loss = 0.149\n",
      "\n",
      "EPOCH 47 ...\n",
      "Training Accuracy = 0.995\n",
      "Validation Accuracy = 0.955\n",
      "Validation loss = 0.176\n",
      "\n",
      "EPOCH 48 ...\n",
      "Training Accuracy = 0.996\n",
      "Validation Accuracy = 0.957\n",
      "Validation loss = 0.170\n",
      "\n",
      "EPOCH 49 ...\n",
      "Training Accuracy = 0.995\n",
      "Validation Accuracy = 0.959\n",
      "Validation loss = 0.172\n",
      "\n",
      "EPOCH 50 ...\n",
      "Training Accuracy = 0.996\n",
      "Validation Accuracy = 0.966\n",
      "Validation loss = 0.144\n",
      "\n",
      "EPOCH 51 ...\n",
      "Training Accuracy = 0.996\n",
      "Validation Accuracy = 0.962\n",
      "Validation loss = 0.143\n",
      "\n",
      "EPOCH 52 ...\n",
      "Training Accuracy = 0.996\n",
      "Validation Accuracy = 0.961\n",
      "Validation loss = 0.148\n",
      "\n",
      "EPOCH 53 ...\n",
      "Training Accuracy = 0.996\n",
      "Validation Accuracy = 0.961\n",
      "Validation loss = 0.155\n",
      "\n",
      "EPOCH 54 ...\n",
      "Training Accuracy = 0.997\n",
      "Validation Accuracy = 0.967\n",
      "Validation loss = 0.139\n",
      "\n",
      "EPOCH 55 ...\n",
      "Training Accuracy = 0.997\n",
      "Validation Accuracy = 0.966\n",
      "Validation loss = 0.135\n",
      "\n",
      "EPOCH 56 ...\n",
      "Training Accuracy = 0.996\n",
      "Validation Accuracy = 0.959\n",
      "Validation loss = 0.157\n",
      "\n",
      "EPOCH 57 ...\n",
      "Training Accuracy = 0.997\n",
      "Validation Accuracy = 0.961\n",
      "Validation loss = 0.150\n",
      "\n",
      "EPOCH 58 ...\n",
      "Training Accuracy = 0.998\n",
      "Validation Accuracy = 0.966\n",
      "Validation loss = 0.136\n",
      "\n",
      "EPOCH 59 ...\n",
      "Training Accuracy = 0.997\n",
      "Validation Accuracy = 0.964\n",
      "Validation loss = 0.148\n",
      "\n",
      "EPOCH 60 ...\n",
      "Training Accuracy = 0.998\n",
      "Validation Accuracy = 0.963\n",
      "Validation loss = 0.144\n",
      "\n",
      "EPOCH 61 ...\n",
      "Training Accuracy = 0.997\n",
      "Validation Accuracy = 0.967\n",
      "Validation loss = 0.152\n",
      "\n",
      "EPOCH 62 ...\n",
      "Training Accuracy = 0.998\n",
      "Validation Accuracy = 0.964\n",
      "Validation loss = 0.151\n",
      "\n",
      "EPOCH 63 ...\n",
      "Training Accuracy = 0.997\n",
      "Validation Accuracy = 0.962\n",
      "Validation loss = 0.154\n",
      "\n",
      "EPOCH 64 ...\n",
      "Training Accuracy = 0.998\n",
      "Validation Accuracy = 0.968\n",
      "Validation loss = 0.155\n",
      "\n",
      "EPOCH 65 ...\n",
      "Training Accuracy = 0.998\n",
      "Validation Accuracy = 0.967\n",
      "Validation loss = 0.132\n",
      "\n",
      "EPOCH 66 ...\n",
      "Training Accuracy = 0.998\n",
      "Validation Accuracy = 0.966\n",
      "Validation loss = 0.141\n",
      "\n",
      "EPOCH 67 ...\n",
      "Training Accuracy = 0.998\n",
      "Validation Accuracy = 0.964\n",
      "Validation loss = 0.156\n",
      "\n",
      "EPOCH 68 ...\n",
      "Training Accuracy = 0.998\n",
      "Validation Accuracy = 0.968\n",
      "Validation loss = 0.152\n",
      "\n",
      "EPOCH 69 ...\n",
      "Training Accuracy = 0.998\n",
      "Validation Accuracy = 0.967\n",
      "Validation loss = 0.148\n",
      "\n",
      "EPOCH 70 ...\n",
      "Training Accuracy = 0.998\n",
      "Validation Accuracy = 0.968\n",
      "Validation loss = 0.134\n",
      "\n",
      "EPOCH 71 ...\n",
      "Training Accuracy = 0.998\n",
      "Validation Accuracy = 0.965\n",
      "Validation loss = 0.139\n",
      "\n",
      "EPOCH 72 ...\n",
      "Training Accuracy = 0.999\n",
      "Validation Accuracy = 0.971\n",
      "Validation loss = 0.143\n",
      "\n",
      "EPOCH 73 ...\n",
      "Training Accuracy = 0.998\n",
      "Validation Accuracy = 0.965\n",
      "Validation loss = 0.151\n",
      "\n",
      "EPOCH 74 ...\n",
      "Training Accuracy = 0.998\n",
      "Validation Accuracy = 0.967\n",
      "Validation loss = 0.144\n",
      "\n",
      "EPOCH 75 ...\n",
      "Training Accuracy = 0.998\n",
      "Validation Accuracy = 0.962\n",
      "Validation loss = 0.174\n",
      "\n",
      "EPOCH 76 ...\n",
      "Training Accuracy = 0.998\n",
      "Validation Accuracy = 0.966\n",
      "Validation loss = 0.145\n",
      "\n",
      "EPOCH 77 ...\n",
      "Training Accuracy = 0.998\n",
      "Validation Accuracy = 0.968\n",
      "Validation loss = 0.134\n",
      "\n",
      "EPOCH 78 ...\n",
      "Training Accuracy = 0.999\n",
      "Validation Accuracy = 0.971\n",
      "Validation loss = 0.142\n",
      "\n",
      "EPOCH 79 ...\n",
      "Training Accuracy = 0.999\n",
      "Validation Accuracy = 0.970\n",
      "Validation loss = 0.144\n",
      "\n",
      "EPOCH 80 ...\n",
      "Training Accuracy = 0.999\n",
      "Validation Accuracy = 0.972\n",
      "Validation loss = 0.144\n",
      "\n",
      "EPOCH 81 ...\n",
      "Training Accuracy = 0.999\n",
      "Validation Accuracy = 0.968\n",
      "Validation loss = 0.147\n",
      "\n",
      "EPOCH 82 ...\n",
      "Training Accuracy = 0.999\n",
      "Validation Accuracy = 0.970\n",
      "Validation loss = 0.141\n",
      "\n",
      "EPOCH 83 ...\n",
      "Training Accuracy = 0.998\n",
      "Validation Accuracy = 0.968\n",
      "Validation loss = 0.136\n",
      "\n",
      "EPOCH 84 ...\n",
      "Training Accuracy = 0.999\n",
      "Validation Accuracy = 0.973\n",
      "Validation loss = 0.147\n",
      "\n",
      "EPOCH 85 ...\n",
      "Training Accuracy = 0.999\n",
      "Validation Accuracy = 0.971\n",
      "Validation loss = 0.158\n",
      "\n",
      "EPOCH 86 ...\n",
      "Training Accuracy = 0.999\n",
      "Validation Accuracy = 0.970\n",
      "Validation loss = 0.149\n",
      "\n",
      "EPOCH 87 ...\n",
      "Training Accuracy = 0.999\n",
      "Validation Accuracy = 0.973\n",
      "Validation loss = 0.153\n",
      "\n",
      "EPOCH 88 ...\n",
      "Training Accuracy = 0.999\n",
      "Validation Accuracy = 0.971\n",
      "Validation loss = 0.141\n",
      "\n",
      "EPOCH 89 ...\n",
      "Training Accuracy = 0.999\n",
      "Validation Accuracy = 0.966\n",
      "Validation loss = 0.156\n",
      "\n",
      "EPOCH 90 ...\n",
      "Training Accuracy = 0.999\n",
      "Validation Accuracy = 0.973\n",
      "Validation loss = 0.137\n",
      "\n"
     ]
    },
    {
     "name": "stdout",
     "output_type": "stream",
     "text": [
      "EPOCH 91 ...\n",
      "Training Accuracy = 0.999\n",
      "Validation Accuracy = 0.974\n",
      "Validation loss = 0.126\n",
      "\n",
      "EPOCH 92 ...\n",
      "Training Accuracy = 0.999\n",
      "Validation Accuracy = 0.972\n",
      "Validation loss = 0.132\n",
      "\n",
      "EPOCH 93 ...\n",
      "Training Accuracy = 0.999\n",
      "Validation Accuracy = 0.971\n",
      "Validation loss = 0.151\n",
      "\n",
      "EPOCH 94 ...\n",
      "Training Accuracy = 0.998\n",
      "Validation Accuracy = 0.970\n",
      "Validation loss = 0.180\n",
      "\n",
      "EPOCH 95 ...\n",
      "Training Accuracy = 0.999\n",
      "Validation Accuracy = 0.971\n",
      "Validation loss = 0.139\n",
      "\n",
      "EPOCH 96 ...\n",
      "Training Accuracy = 0.999\n",
      "Validation Accuracy = 0.972\n",
      "Validation loss = 0.144\n",
      "\n",
      "EPOCH 97 ...\n",
      "Training Accuracy = 0.999\n",
      "Validation Accuracy = 0.970\n",
      "Validation loss = 0.176\n",
      "\n",
      "EPOCH 98 ...\n",
      "Training Accuracy = 0.999\n",
      "Validation Accuracy = 0.969\n",
      "Validation loss = 0.162\n",
      "\n",
      "EPOCH 99 ...\n",
      "Training Accuracy = 0.999\n",
      "Validation Accuracy = 0.971\n",
      "Validation loss = 0.153\n",
      "\n",
      "EPOCH 100 ...\n",
      "Training Accuracy = 0.999\n",
      "Validation Accuracy = 0.966\n",
      "Validation loss = 0.165\n",
      "\n",
      "Model saved in file: ./Model_ouput_lenet\n",
      "CPU times: user 5min 44s, sys: 57.2 s, total: 6min 42s\n",
      "Wall time: 6min 15s\n"
     ]
    }
   ],
   "source": [
    "%%time\n",
    "### Train your model here.\n",
    "### Calculate and report the accuracy on the training and validation set.\n",
    "### Once a final model architecture is selected, \n",
    "### the accuracy on the test set should be calculated and reported as well.\n",
    "### Feel free to use as many code cells as needed.\n",
    "\n",
    "training_accuracy_history = []\n",
    "validation_accuracy_history = []\n",
    "training_loss_history = []\n",
    "validation_loss_history = []\n",
    "with tf.Session() as sess:\n",
    "    sess.run(tf.global_variables_initializer())\n",
    "#     saver.restore(sess, tf.train.latest_checkpoint('.'))\n",
    "#     saver.restore(sess, \"./Model_ouput_lenet\")\n",
    "    num_examples = len(X_train)\n",
    "\n",
    "    # op to write logs to Tensorboard\n",
    "    summary_writer = tf.summary.FileWriter(logs_path, graph=tf.get_default_graph())\n",
    "    \n",
    "    print(\"Training...\")\n",
    "    print()\n",
    "    for i in range(EPOCHS):\n",
    "        X_train, y_train = shuffle(X_train, y_train)\n",
    "        for offset in range(0, num_examples, BATCH_SIZE):\n",
    "            end = offset + BATCH_SIZE\n",
    "            batch_x, batch_y = X_train[offset:end], y_train[offset:end]\n",
    "            loss, _ = sess.run([loss_operation,training_operation], feed_dict={x: batch_x, y: batch_y , keep_prob1: 0.4})\n",
    "#             loss, _, summary = sess.run([loss_operation,training_operation, merged_summary_op], feed_dict={x: batch_x, y: batch_y})\n",
    "            # Write logs at every iteration\n",
    "#             summary_writer.add_summary(summary, i * BATCH_SIZE + offset)\n",
    "            \n",
    "        \n",
    "        training_loss, training_accuracy = evaluate(X_train, y_train)\n",
    "        validation_loss, validation_accuracy = evaluate(X_validation, y_validation)\n",
    "#         validation_loss, validation_accuracy, summary = evaluate(X_validation, y_validation)\n",
    "#         summary_writer.add_summary(summary, i * BATCH_SIZE)\n",
    "        print(\"EPOCH {} ...\".format(i+1))\n",
    "        print(\"Training Accuracy = {:.3f}\".format(training_accuracy))\n",
    "        print(\"Validation Accuracy = {:.3f}\".format(validation_accuracy))\n",
    "        print(\"Validation loss = {:.3f}\".format(validation_loss))\n",
    "        print()\n",
    "        training_loss_history.append(training_loss)\n",
    "        training_accuracy_history.append(training_accuracy)\n",
    "        validation_loss_history.append(validation_loss)\n",
    "        validation_accuracy_history.append(validation_accuracy)\n",
    "    \n",
    "        \n",
    "    save_path = saver.save(sess, MODEL_DIR)\n",
    "    print(\"Model saved in file: %s\" % save_path)"
   ]
  },
  {
   "cell_type": "code",
   "execution_count": 22,
   "metadata": {},
   "outputs": [
    {
     "data": {
      "text/plain": [
       "[<matplotlib.lines.Line2D at 0x7fc7e504ff28>]"
      ]
     },
     "execution_count": 22,
     "metadata": {},
     "output_type": "execute_result"
    },
    {
     "data": {
      "image/png": "[encoded data removed]",
      "text/plain": [
       "<matplotlib.figure.Figure at 0x7fc7e5aea5c0>"
      ]
     },
     "metadata": {},
     "output_type": "display_data"
    }
   ],
   "source": [
    "plt.plot(training_loss_history, \"b-\")\n",
    "plt.plot(validation_loss_history, \"r-\")\n",
    "plt.plot(training_accuracy_history, \"y-\")\n",
    "plt.plot(validation_accuracy_history, \"g-\")\n",
    "\n"
   ]
  },
  {
   "cell_type": "code",
   "execution_count": 23,
   "metadata": {},
   "outputs": [
    {
     "name": "stdout",
     "output_type": "stream",
     "text": [
      "Test Accuracy = 0.938\n",
      "Test Loss = 0.402\n",
      "CPU times: user 432 ms, sys: 292 ms, total: 724 ms\n",
      "Wall time: 519 ms\n"
     ]
    }
   ],
   "source": [
    "%%time\n",
    "with tf.Session() as sess:\n",
    "#     saver.restore(sess, tf.train.latest_checkpoint('.'))\n",
    "    saver.restore(sess, \"./Model_ouput_lenet\")\n",
    "    test_loss, test_accuracy = evaluate(X_test, y_test)\n",
    "    print(\"Test Accuracy = {:.3f}\".format(test_accuracy))\n",
    "    print(\"Test Loss = {:.3f}\".format(test_loss))"
   ]
  },
  {
   "cell_type": "markdown",
   "metadata": {},
   "source": [
    "---\n",
    "\n",
    "## Step 3: Test a Model on New Images\n",
    "\n",
    "To give yourself more insight into how your model is working, download at least five pictures of German traffic signs from the web and use your model to predict the traffic sign type.\n",
    "\n",
    "You may find `signnames.csv` useful as it contains mappings from the class id (integer) to the actual sign name."
   ]
  },
  {
   "cell_type": "markdown",
   "metadata": {},
   "source": [
    "### Load and Output the Images"
   ]
  },
  {
   "cell_type": "code",
   "execution_count": 26,
   "metadata": {},
   "outputs": [
    {
     "name": "stdout",
     "output_type": "stream",
     "text": [
      "<class 'numpy.ndarray'>\n",
      "(5, 32, 32, 3)\n",
      "CPU times: user 308 ms, sys: 0 ns, total: 308 ms\n",
      "Wall time: 302 ms\n"
     ]
    },
    {
     "data": {
      "image/png": "[encoded data removed]",
      "text/plain": [
       "<matplotlib.figure.Figure at 0x7fc7e2161048>"
      ]
     },
     "metadata": {},
     "output_type": "display_data"
    }
   ],
   "source": [
    "%%time\n",
    "### Load the images and plot them here.\n",
    "### Feel free to use as many code cells as needed.\n",
    "import os, glob, cv2\n",
    "import tensorflow as tf\n",
    "import numpy as np\n",
    "import matplotlib.pyplot as plt\n",
    "import matplotlib.image as mpimg\n",
    "# Visualizations will be shown in the notebook.\n",
    "%matplotlib inline\n",
    "\n",
    "WORK_DIR = os.path.curdir\n",
    "web_files_path = WORK_DIR + \"/web_images\"\n",
    "files = glob.glob(web_files_path +'/*.jpg')\n",
    "files.sort()\n",
    "fig, axs = plt.subplots(1,len(files), figsize=(14, 7))\n",
    "fig.subplots_adjust(hspace = 1.2, wspace=.001)\n",
    "axs = axs.ravel()\n",
    "\n",
    "# x_web_images = np.empty((0,32,32,3), int)\n",
    "# y_web_images = np.empty((0,), int)\n",
    "x_web_images_list = []\n",
    "y_web_images = []\n",
    "\n",
    "for i, img in enumerate(files):\n",
    "    image =mpimg.imread(img)\n",
    "    x_web_images_resized = cv2.resize(image, (32,32))\n",
    "    axs[i].axis('off')\n",
    "    axs[i].imshow(x_web_images_resized)\n",
    "#     x_web_images = np.concatenate((x_web_images, [x_web_images_resized]), axis=0, uint32)\n",
    "    x_web_images_list.append(x_web_images_resized)\n",
    "#     y_web_images.append(image_filename_truncated)\n",
    "\n",
    "x_web_images= np.asarray(x_web_images_list)\n",
    "# print(type(x_web_images))\n",
    "# print(x_web_images.shape)\n",
    "x_web_images_normalized = preprocess_data(x_web_images)\n",
    "# x_web_images_normalized = x_web_images"
   ]
  },
  {
   "cell_type": "code",
   "execution_count": 27,
   "metadata": {
    "collapsed": true
   },
   "outputs": [],
   "source": [
    "y_web_images = np.array([1, 18, 12, 20, 14])    \n",
    "    "
   ]
  },
  {
   "cell_type": "markdown",
   "metadata": {},
   "source": [
    "### Predict the Sign Type for Each Image"
   ]
  },
  {
   "cell_type": "code",
   "execution_count": 28,
   "metadata": {},
   "outputs": [
    {
     "name": "stdout",
     "output_type": "stream",
     "text": [
      "CPU times: user 0 ns, sys: 0 ns, total: 0 ns\n",
      "Wall time: 1.07 ms\n"
     ]
    }
   ],
   "source": [
    "%%time\n",
    "\n",
    "### Run the predictions here and use the model to output the prediction for each image.\n",
    "### Make sure to pre-process the images with the same pre-processing pipeline used earlier.\n",
    "### Feel free to use as many code cells as needed.\n",
    "\n",
    "prediction = tf.nn.softmax(logits)\n",
    "\n"
   ]
  },
  {
   "cell_type": "markdown",
   "metadata": {},
   "source": [
    "### Analyze Performance"
   ]
  },
  {
   "cell_type": "code",
   "execution_count": 29,
   "metadata": {},
   "outputs": [
    {
     "name": "stdout",
     "output_type": "stream",
     "text": [
      "Test Set Accuracy = 1.000\n",
      "CPU times: user 88 ms, sys: 116 ms, total: 204 ms\n",
      "Wall time: 91.7 ms\n"
     ]
    }
   ],
   "source": [
    "%%time\n",
    "### Calculate the accuracy for these 5 new images. \n",
    "### For example, if the model predicted 1 out of 5 signs correctly, it's 20% accurate on these new images.\n",
    "\n",
    "# saver = tf.train.Saver()\n",
    "with tf.Session() as sess:\n",
    "    saver.restore(sess, tf.train.latest_checkpoint('.'))\n",
    "    web_test_loss, web_test_accuracy = evaluate(x_web_images_normalized, y_web_images)\n",
    "    print(\"Test Set Accuracy = {:.3f}\".format(web_test_accuracy))\n",
    "\n"
   ]
  },
  {
   "cell_type": "markdown",
   "metadata": {},
   "source": [
    "### Output Top 5 Softmax Probabilities For Each Image Found on the Web"
   ]
  },
  {
   "cell_type": "markdown",
   "metadata": {},
   "source": [
    "For each of the new images, print out the model's softmax probabilities to show the **certainty** of the model's predictions (limit the output to the top 5 probabilities for each image). [`tf.nn.top_k`](https://www.tensorflow.org/versions/r0.12/api_docs/python/nn.html#top_k) used here. \n",
    "\n"
   ]
  },
  {
   "cell_type": "code",
   "execution_count": 30,
   "metadata": {
    "scrolled": true
   },
   "outputs": [
    {
     "name": "stdout",
     "output_type": "stream",
     "text": [
      "TopKV2(values=array([[  9.96134520e-01,   3.86524573e-03,   2.38697481e-07,\n",
      "          3.48103546e-09,   5.42475266e-11],\n",
      "       [  1.00000000e+00,   7.70488447e-12,   2.34172359e-15,\n",
      "          3.87953848e-16,   3.41412088e-16],\n",
      "       [  1.00000000e+00,   1.66342825e-11,   2.62573221e-13,\n",
      "          7.54586670e-15,   9.31518528e-18],\n",
      "       [  9.98889029e-01,   1.07852533e-03,   3.21608568e-05,\n",
      "          2.91648178e-07,   4.04680600e-09],\n",
      "       [  9.99496222e-01,   1.60478463e-04,   1.48772582e-04,\n",
      "          7.39646566e-05,   7.01190875e-05]], dtype=float32), indices=array([[ 1,  2,  3,  5,  6],\n",
      "       [18, 27,  4, 25, 26],\n",
      "       [12, 40,  9, 13, 11],\n",
      "       [20, 16, 23, 19, 10],\n",
      "       [14,  2,  3, 13,  1]], dtype=int32))\n",
      "CPU times: user 80 ms, sys: 124 ms, total: 204 ms\n",
      "Wall time: 95.9 ms\n"
     ]
    }
   ],
   "source": [
    "%%time\n",
    "### Print out the top five softmax probabilities for the predictions on the German traffic sign images found on the web. \n",
    "### Feel free to use as many code cells as needed.\n",
    "\n",
    "# prediction = tf.nn.softmax(logits)\n",
    "top_k = tf.nn.top_k(prediction, k=5)\n",
    "with tf.Session() as sess:\n",
    "    saver.restore(sess, tf.train.latest_checkpoint('.'))\n",
    "    OUT_top_k = sess.run(top_k, feed_dict={x: x_web_images_normalized, keep_prob1: 1.0})\n",
    "\n",
    "    \n",
    "print(OUT_top_k)   "
   ]
  },
  {
   "cell_type": "code",
   "execution_count": 31,
   "metadata": {},
   "outputs": [
    {
     "data": {
      "image/png": "[encoded data removed]",
      "text/plain": [
       "<matplotlib.figure.Figure at 0x7fc7e1f57b00>"
      ]
     },
     "metadata": {},
     "output_type": "display_data"
    }
   ],
   "source": [
    "# Display the probabilites\n",
    "np_csv_data= np.asarray(csv_data[1:])\n",
    "no_imgs= x_web_images.shape[0]\n",
    "\n",
    "plt.figure(figsize=(20, 21))\n",
    "for i in range(no_imgs):\n",
    "    plt.subplot(12, 2, 2*i+1)\n",
    "    plt.imshow(x_web_images[i]) \n",
    "    plt.title(i)\n",
    "    plt.axis('off')\n",
    "    plt.subplot(12, 2, 2*i+2)\n",
    "    plt.barh(np.arange(0,5), OUT_top_k.values[i, :])\n",
    "    x_axis_values=[np_csv_data[j][1] for j in OUT_top_k.indices[i]]\n",
    "    plt.yticks(np.arange(0,5), x_axis_values)\n",
    "plt.show() \n",
    "\n",
    " "
   ]
  },
  {
   "cell_type": "markdown",
   "metadata": {},
   "source": [
    "> **Note**: Once you have completed all of the code implementations and successfully answered each question above, you may finalize your work by exporting the iPython Notebook as an HTML document. You can do this by using the menu above and navigating to  \\n\",\n",
    "    \"**File -> Download as -> HTML (.html)**. Include the finished document along with this notebook as your submission."
   ]
  }
 ],
 "metadata": {
  "anaconda-cloud": {},
  "kernelspec": {
   "display_name": "Python 3",
   "language": "python",
   "name": "python3"
  },
  "language_info": {
   "codemirror_mode": {
    "name": "ipython",
    "version": 3
   },
   "file_extension": ".py",
   "mimetype": "text/x-python",
   "name": "python",
   "nbconvert_exporter": "python",
   "pygments_lexer": "ipython3",
   "version": "3.5.2"
  },
  "widgets": {
   "state": {},
   "version": "1.1.2"
  }
 },
 "nbformat": 4,
 "nbformat_minor": 1
}
