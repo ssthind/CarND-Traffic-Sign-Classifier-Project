{
 "cells": [
  {
   "cell_type": "markdown",
   "metadata": {},
   "source": [
    "### For visvualizing the Compuation Graph in TensorBoard\n",
    "\n",
    "Run the following command in shell(cmd)to start the Tensorboard server system.\n",
    "`\n",
    "tensorboard --logdir=\"./logs\"\n",
    "`\n",
    "OR run the below cell"
   ]
  },
  {
   "cell_type": "code",
   "execution_count": null,
   "metadata": {},
   "outputs": [],
   "source": [
    "# note this cell need not be run if the above is run a shell\n",
    "\n",
    "!tensorboard --logdir=\"./logs\""
   ]
  },
  {
   "cell_type": "code",
   "execution_count": 2,
   "metadata": {},
   "outputs": [
    {
     "data": {
      "text/html": [
       "<iframe src=http://localhost:6006/ height=900 width=900></iframe>"
      ],
      "text/plain": [
       "<IPython.core.display.HTML object>"
      ]
     },
     "metadata": {},
     "output_type": "display_data"
    }
   ],
   "source": [
    "from IPython.display import display, HTML\n",
    "ip_addr = \"localhost\"   # system on which tensorboard is launched\n",
    "tensorboard = \"<iframe src={} height=900 width=900></iframe>\".format(\"http://\" + ip_addr +\":6006/\")\n",
    "display(HTML(tensorboard))"
   ]
  },
  {
   "cell_type": "markdown",
   "metadata": {},
   "source": [
    "###### To stop tensorboard server\n",
    "Press `Ctrl+c` in shell\n",
    "OR\n",
    "Kill the kernal"
   ]
  }
 ],
 "metadata": {
  "kernelspec": {
   "display_name": "Python 3",
   "language": "python",
   "name": "python3"
  },
  "language_info": {
   "codemirror_mode": {
    "name": "ipython",
    "version": 3
   },
   "file_extension": ".py",
   "mimetype": "text/x-python",
   "name": "python",
   "nbconvert_exporter": "python",
   "pygments_lexer": "ipython3",
   "version": "3.6.3"
  }
 },
 "nbformat": 4,
 "nbformat_minor": 2
}
